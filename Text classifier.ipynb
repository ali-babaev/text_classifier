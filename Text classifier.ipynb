{
 "cells": [
  {
   "cell_type": "code",
   "execution_count": 409,
   "id": "2bc380ab",
   "metadata": {},
   "outputs": [
    {
     "name": "stderr",
     "output_type": "stream",
     "text": [
      "[nltk_data] Downloading package punkt to /Users/a.babaev/nltk_data...\n",
      "[nltk_data]   Package punkt is already up-to-date!\n",
      "[nltk_data] Downloading package stopwords to\n",
      "[nltk_data]     /Users/a.babaev/nltk_data...\n",
      "[nltk_data]   Package stopwords is already up-to-date!\n",
      "[nltk_data] Downloading package wordnet to\n",
      "[nltk_data]     /Users/a.babaev/nltk_data...\n",
      "[nltk_data]   Package wordnet is already up-to-date!\n",
      "[nltk_data] Downloading package omw-1.4 to\n",
      "[nltk_data]     /Users/a.babaev/nltk_data...\n",
      "[nltk_data]   Package omw-1.4 is already up-to-date!\n",
      "[nltk_data] Downloading package averaged_perceptron_tagger to\n",
      "[nltk_data]     /Users/a.babaev/nltk_data...\n",
      "[nltk_data]   Package averaged_perceptron_tagger is already up-to-\n",
      "[nltk_data]       date!\n"
     ]
    }
   ],
   "source": [
    "# импортируем библиотеки\n",
    "import pandas as pd\n",
    "import numpy as np\n",
    "import seaborn as sns\n",
    "from matplotlib import pyplot as plt\n",
    "import pickle\n",
    "import re\n",
    "import math\n",
    "from pathlib import Path\n",
    "import pysrt\n",
    "from difflib import get_close_matches\n",
    "import re\n",
    "import fitz\n",
    "import nltk\n",
    "from tqdm.notebook import tqdm\n",
    "from bs4 import BeautifulSoup\n",
    "from nltk.corpus import stopwords\n",
    "from nltk.corpus import wordnet as wn\n",
    "from nltk.stem.wordnet import WordNetLemmatizer\n",
    "from nltk.tokenize import word_tokenize\n",
    "from nltk.tokenize import RegexpTokenizer\n",
    "from nltk import word_tokenize, pos_tag\n",
    "from collections import defaultdict\n",
    "import string\n",
    "from string import digits\n",
    "import textstat\n",
    "nltk.download('punkt')\n",
    "nltk.download('stopwords')\n",
    "nltk.download('wordnet')\n",
    "nltk.download('omw-1.4')\n",
    "nltk.download('averaged_perceptron_tagger')\n",
    "from sklearn.preprocessing import StandardScaler, OrdinalEncoder \n",
    "from sklearn.model_selection import GridSearchCV\n",
    "from sklearn.model_selection import KFold\n",
    "from sklearn.ensemble import RandomForestRegressor\n",
    "from sklearn.ensemble import GradientBoostingClassifier\n",
    "from sklearn.model_selection import RandomizedSearchCV\n",
    "from sklearn.ensemble import GradientBoostingRegressor\n",
    "from sklearn.metrics import mean_absolute_percentage_error\n",
    "from sklearn.model_selection import ShuffleSplit\n",
    "from sklearn.impute import KNNImputer\n",
    "from sklearn.metrics import accuracy_score\n",
    "from sklearn.model_selection import train_test_split\n",
    "from sklearn.metrics import confusion_matrix, ConfusionMatrixDisplay\n",
    "from sklearn.preprocessing import MinMaxScaler\n",
    "\n",
    "import warnings\n",
    "warnings.simplefilter(action='ignore', category=FutureWarning)"
   ]
  },
  {
   "cell_type": "code",
   "execution_count": 410,
   "id": "812b27ad",
   "metadata": {},
   "outputs": [],
   "source": [
    "HTML = r'<.*?>'\n",
    "TAG = r'{.*?}'\n",
    "COMMENTS = r'[\\(\\[][A-Z ]+[\\)\\]]'\n",
    "LETTERS = r'[^a-zA-Z\\'.,!? ]'\n",
    "SPACES = r'([ ])\\1+'\n",
    "DOTS = r'[\\.]+'\n",
    "HYPHENS = r'-(?=\\w)'\n",
    "\n",
    "def clean_subs(subs):\n",
    "    txt = \".\".join(subs.lower().split('.')[1:-1]) #удаляем первый и последний субтитр (обычно это реклама)\n",
    "    txt = re.sub(HTML, ' ', subs) #html тэги меняем на пробел\n",
    "    txt = re.sub(TAG, ' ', txt) #тэги меняем на пробел\n",
    "    txt = re.sub(COMMENTS, ' ', txt) #комменты меняем на пробел\n",
    "    txt = re.sub(LETTERS, ' ', txt) #все что не буквы меняем на пробел\n",
    "    txt = re.sub(SPACES, r'\\1', txt) #повторяющиеся пробелы меняем на один пробел\n",
    "    txt = re.sub(DOTS, r'.', txt)  #многоточие меняем на точку\n",
    "    txt = re.sub(HYPHENS, '', txt)  #убирем дефисы\n",
    "    txt = txt.encode('ascii', 'ignore').decode() #удаляем все что не ascii символы\n",
    "    return txt.lower()"
   ]
  },
  {
   "cell_type": "code",
   "execution_count": 411,
   "id": "1b847ac3",
   "metadata": {},
   "outputs": [],
   "source": [
    "# загрузим файл с названием фильмов\n",
    "titles = pd.read_excel('/Users/a.babaev/Documents/datasets/English_scores/movies_labels.xlsx')\n",
    "titles = titles.drop_duplicates(subset='Movie', keep='first')"
   ]
  },
  {
   "cell_type": "code",
   "execution_count": 412,
   "id": "798eb628",
   "metadata": {},
   "outputs": [],
   "source": [
    "# создадим список с адресами файлов с субтитрами\n",
    "paths = list(Path('/Users/a.babaev/Documents/datasets/English_scores').rglob('*.srt'))"
   ]
  },
  {
   "cell_type": "code",
   "execution_count": 413,
   "id": "19e4cf44",
   "metadata": {},
   "outputs": [],
   "source": [
    "# создадим датафрейм с названием фильма и его сложностью\n",
    "movies = pd.DataFrame({'title': [x.name for x in paths],\n",
    "                       'level': [x.parent.name for x in paths],\n",
    "                       'path':  [x for x in paths]})"
   ]
  },
  {
   "cell_type": "code",
   "execution_count": 414,
   "id": "2741ee75",
   "metadata": {},
   "outputs": [],
   "source": [
    "# уберем расширение из названия файла\n",
    "movies['title'] = movies['title'].str.replace('.srt', '')"
   ]
  },
  {
   "cell_type": "code",
   "execution_count": 415,
   "id": "37ef07e4",
   "metadata": {},
   "outputs": [],
   "source": [
    "# используем поиск по неполному соотвествию с датафреймом 'titles'\n",
    "movies['Movie'] = movies['title'].map(lambda x: get_close_matches(x, titles['Movie'], n=1, cutoff=0.8)[0:1])"
   ]
  },
  {
   "cell_type": "code",
   "execution_count": 416,
   "id": "1bfe7317",
   "metadata": {},
   "outputs": [],
   "source": [
    "# приведем данные к строке\n",
    "movies['Movie'] = movies['Movie'].str.join(', ')\n",
    "\n",
    "# объединим датафреймы\n",
    "movies = movies.merge(titles[['Movie', 'Level']], how='left', on='Movie')\n",
    "\n",
    "# для фильмов, находящихся в папке 'Subtitles', используем оценки из датафрейма 'titles'\n",
    "movies.loc[(movies['level'] == 'Subtitles'), 'level'] = movies.loc[(movies['level'] == 'Subtitles'), 'Level']\n",
    "\n",
    "# удалим ненужные данные\n",
    "movies = movies.drop(['Movie', 'Level'], axis=1)"
   ]
  },
  {
   "cell_type": "code",
   "execution_count": 417,
   "id": "2f3b5dd0",
   "metadata": {
    "scrolled": false
   },
   "outputs": [
    {
     "data": {
      "text/plain": [
       "B2            136\n",
       "B1             51\n",
       "C1             39\n",
       "A2/A2+         26\n",
       "B1, B2          8\n",
       "A2              6\n",
       "A2/A2+, B1      4\n",
       "Name: level, dtype: int64"
      ]
     },
     "execution_count": 417,
     "metadata": {},
     "output_type": "execute_result"
    }
   ],
   "source": [
    "# иучим распределение фильмов по уровню сложности\n",
    "movies['level'].value_counts()"
   ]
  },
  {
   "cell_type": "code",
   "execution_count": 418,
   "id": "8c8310a3",
   "metadata": {},
   "outputs": [],
   "source": [
    "# сгруппируем уровни сложности\n",
    "movies.loc[(movies['level'] == 'A2/A2+'), 'level'] = 'A2'\n",
    "movies.loc[(movies['level'] == 'A2/A2+, B1'), 'level'] = 'A2'\n",
    "movies.loc[(movies['level'] == 'B1, B2'), 'level'] = 'B1'"
   ]
  },
  {
   "cell_type": "code",
   "execution_count": 419,
   "id": "31e7dc01",
   "metadata": {},
   "outputs": [],
   "source": [
    "# объединим pdf-словари в один файл\n",
    "pdf_path_list = list(Path('/Users/a.babaev/Documents/datasets/').rglob('*.pdf'))\n",
    "out_pdf_path = \"/Users/a.babaev/Documents/datasets/merged_dictionary.pdf\"\n",
    "doc = fitz.Document()\n",
    "\n",
    "for i in range(len(pdf_path_list)):\n",
    "    sub_doc = fitz.open(pdf_path_list[i])\n",
    "    doc.insert_pdf(sub_doc)"
   ]
  },
  {
   "cell_type": "code",
   "execution_count": 420,
   "id": "dcbde644",
   "metadata": {},
   "outputs": [],
   "source": [
    "# извлечем данные из pdf-файла\n",
    "out = open(\"/Users/a.babaev/Documents/datasets/text_dictionary.txt\", \"wb\")\n",
    "for page in doc: \n",
    "    text = page.get_text('html').encode(\"utf8\")\n",
    "    out.write(text)\n",
    "out.close()"
   ]
  },
  {
   "cell_type": "code",
   "execution_count": 421,
   "id": "8bd9b5f1",
   "metadata": {},
   "outputs": [],
   "source": [
    "# распарсим данные из html-разметки\n",
    "with open('/Users/a.babaev/Documents/datasets/text_dictionary.txt') as f:\n",
    "    soup = BeautifulSoup(f.read(), 'lxml')\n",
    "\n",
    "word = []\n",
    "part = []\n",
    "rows = soup.find_all('p',class_=None)\n",
    "\n",
    "for i in range(len(rows)):\n",
    "    word.append(rows[i].find_all('span', class_=None)[0].text)\n",
    "    \n",
    "    try:\n",
    "        part.append(rows[i].find_all('span', class_=None)[4].text)\n",
    "    except:\n",
    "        pass\n",
    "        try:\n",
    "            part.append(rows[i].find_all('span', class_=None)[3].text)  \n",
    "        except:\n",
    "            pass\n",
    "            try:\n",
    "                part.append(rows[i].find_all('span', class_=None)[2].text)  \n",
    "            except:\n",
    "                pass\n",
    "                try:\n",
    "                    part.append(rows[i].find_all('span', class_=None)[1].text)  \n",
    "                except:\n",
    "                    part.append('')\n",
    "\n",
    "dictionary = pd.DataFrame({'word':word, 'part':part})"
   ]
  },
  {
   "cell_type": "code",
   "execution_count": 422,
   "id": "d8041ce9",
   "metadata": {
    "scrolled": true
   },
   "outputs": [],
   "source": [
    "# присвоим словам уровень сложности\n",
    "level_index = dictionary[dictionary['word'].str.contains('^[A-C][1-2]')].index\n",
    "dictionary.loc[dictionary['word'].str.contains('^[A-C][1-2]'), 'level'] = dictionary.loc[dictionary['word'].str.contains('^[A-C][1-2]'), 'word']\n",
    "dictionary['level'] = dictionary['level'].fillna(method='ffill')\n",
    "dictionary = dictionary.drop(index=level_index)"
   ]
  },
  {
   "cell_type": "code",
   "execution_count": 423,
   "id": "831da5e7",
   "metadata": {},
   "outputs": [],
   "source": [
    "# удалим лишние строки\n",
    "dictionary = dictionary.drop(dictionary.loc[dictionary['word'].str.contains('™|©|/', na=False)].index)\n",
    "dictionary = dictionary.drop(dictionary.loc[dictionary['part'].str.contains('level', na=False)].index)\n",
    "dictionary['word'] = dictionary['word'].str.strip()"
   ]
  },
  {
   "cell_type": "code",
   "execution_count": 424,
   "id": "95ec86f6",
   "metadata": {},
   "outputs": [],
   "source": [
    "# обработаем полученные данные\n",
    "remove_digits = str.maketrans('', '', digits)\n",
    "dictionary['word'] = dictionary['word'].str.translate(remove_digits)\n",
    "dictionary['part'] = dictionary['part'].str.split('.',expand=True)[0]\n",
    "dictionary['part'] = dictionary['part'].str.split(',',expand=True)[0]\n",
    "dictionary['part'] = dictionary['part'].str.split('/',expand=True)[0]\n",
    "dictionary.loc[(dictionary['part'] == 'noun'), 'part'] = 'n'\n",
    "dictionary['part'] = dictionary['part'].str.strip()\n",
    "dictionary = dictionary[dictionary['word'] != '']\n",
    "dictionary = dictionary.dropna(subset='level')\n",
    "dictionary = dictionary.drop_duplicates(subset=['word', 'level'])\n",
    "dictionary = dictionary.drop_duplicates(subset=['word'], keep='first').reset_index(drop=True)"
   ]
  },
  {
   "cell_type": "code",
   "execution_count": 425,
   "id": "6f541d97",
   "metadata": {},
   "outputs": [
    {
     "data": {
      "text/html": [
       "<div>\n",
       "<style scoped>\n",
       "    .dataframe tbody tr th:only-of-type {\n",
       "        vertical-align: middle;\n",
       "    }\n",
       "\n",
       "    .dataframe tbody tr th {\n",
       "        vertical-align: top;\n",
       "    }\n",
       "\n",
       "    .dataframe thead th {\n",
       "        text-align: right;\n",
       "    }\n",
       "</style>\n",
       "<table border=\"1\" class=\"dataframe\">\n",
       "  <thead>\n",
       "    <tr style=\"text-align: right;\">\n",
       "      <th></th>\n",
       "      <th>word</th>\n",
       "      <th>part</th>\n",
       "      <th>level</th>\n",
       "    </tr>\n",
       "  </thead>\n",
       "  <tbody>\n",
       "    <tr>\n",
       "      <th>0</th>\n",
       "      <td>a, an</td>\n",
       "      <td>indefinite article</td>\n",
       "      <td>A1</td>\n",
       "    </tr>\n",
       "    <tr>\n",
       "      <th>1</th>\n",
       "      <td>about</td>\n",
       "      <td>prep</td>\n",
       "      <td>A1</td>\n",
       "    </tr>\n",
       "    <tr>\n",
       "      <th>2</th>\n",
       "      <td>above</td>\n",
       "      <td>prep</td>\n",
       "      <td>A1</td>\n",
       "    </tr>\n",
       "    <tr>\n",
       "      <th>3</th>\n",
       "      <td>across</td>\n",
       "      <td>prep</td>\n",
       "      <td>A1</td>\n",
       "    </tr>\n",
       "    <tr>\n",
       "      <th>4</th>\n",
       "      <td>action</td>\n",
       "      <td>n</td>\n",
       "      <td>A1</td>\n",
       "    </tr>\n",
       "  </tbody>\n",
       "</table>\n",
       "</div>"
      ],
      "text/plain": [
       "     word                part level\n",
       "0   a, an  indefinite article    A1\n",
       "1   about                prep    A1\n",
       "2   above                prep    A1\n",
       "3  across                prep    A1\n",
       "4  action                   n    A1"
      ]
     },
     "execution_count": 425,
     "metadata": {},
     "output_type": "execute_result"
    }
   ],
   "source": [
    "dictionary.head()"
   ]
  },
  {
   "cell_type": "code",
   "execution_count": 426,
   "id": "92329f36",
   "metadata": {
    "scrolled": false
   },
   "outputs": [
    {
     "data": {
      "text/html": [
       "<div>\n",
       "<style scoped>\n",
       "    .dataframe tbody tr th:only-of-type {\n",
       "        vertical-align: middle;\n",
       "    }\n",
       "\n",
       "    .dataframe tbody tr th {\n",
       "        vertical-align: top;\n",
       "    }\n",
       "\n",
       "    .dataframe thead th {\n",
       "        text-align: right;\n",
       "    }\n",
       "</style>\n",
       "<table border=\"1\" class=\"dataframe\">\n",
       "  <thead>\n",
       "    <tr style=\"text-align: right;\">\n",
       "      <th></th>\n",
       "      <th>word</th>\n",
       "    </tr>\n",
       "    <tr>\n",
       "      <th>level</th>\n",
       "      <th></th>\n",
       "    </tr>\n",
       "  </thead>\n",
       "  <tbody>\n",
       "    <tr>\n",
       "      <th>A1</th>\n",
       "      <td>919</td>\n",
       "    </tr>\n",
       "    <tr>\n",
       "      <th>A2</th>\n",
       "      <td>818</td>\n",
       "    </tr>\n",
       "    <tr>\n",
       "      <th>B1</th>\n",
       "      <td>706</td>\n",
       "    </tr>\n",
       "    <tr>\n",
       "      <th>B2</th>\n",
       "      <td>1314</td>\n",
       "    </tr>\n",
       "    <tr>\n",
       "      <th>C1</th>\n",
       "      <td>1316</td>\n",
       "    </tr>\n",
       "  </tbody>\n",
       "</table>\n",
       "</div>"
      ],
      "text/plain": [
       "       word\n",
       "level      \n",
       "A1      919\n",
       "A2      818\n",
       "B1      706\n",
       "B2     1314\n",
       "C1     1316"
      ]
     },
     "execution_count": 426,
     "metadata": {},
     "output_type": "execute_result"
    }
   ],
   "source": [
    "dictionary.groupby('level')[['word']].count()"
   ]
  },
  {
   "cell_type": "code",
   "execution_count": 427,
   "id": "6eac5d88",
   "metadata": {
    "scrolled": false
   },
   "outputs": [
    {
     "data": {
      "application/vnd.jupyter.widget-view+json": {
       "model_id": "cea84d82b586449ea6c60b520ff0d95d",
       "version_major": 2,
       "version_minor": 0
      },
      "text/plain": [
       "films:   0%|          | 0/278 [00:00<?, ?it/s]"
      ]
     },
     "metadata": {},
     "output_type": "display_data"
    },
    {
     "name": "stdout",
     "output_type": "stream",
     "text": [
      "Aladdin(1992)15)_of_Caring(2016)2019.720.NF.720p.DDP.5.1.x264-CafeFlixglish\r"
     ]
    }
   ],
   "source": [
    "# токенизируем слова из файлов с субтитрами, а затем лемматизируем их\n",
    "stops = set(stopwords.words(\"english\") + list(string.punctuation))\n",
    "tag_map = defaultdict(lambda : wn.NOUN)\n",
    "lemma_function = WordNetLemmatizer()\n",
    "tokenizer = RegexpTokenizer(r'\\w+')\n",
    "tag_map['J'] = wn.ADJ\n",
    "tag_map['V'] = wn.VERB\n",
    "tag_map['R'] = wn.ADV\n",
    "token_list = []\n",
    "lemma_list = []\n",
    "movies_list = []\n",
    "\n",
    "for i in tqdm(range(movies.shape[0]), position=1, desc='films', leave=True):\n",
    "    try:\n",
    "        subs = pysrt.open(movies['path'][i]).text\n",
    "    except:\n",
    "        subs = pysrt.open(movies['path'][i], encoding='unicode_escape').text\n",
    "        \n",
    "    cleaned_subs = clean_subs(subs)\n",
    "    words = tokenizer.tokenize(cleaned_subs)\n",
    "    meaningful_words = [w for w in words if not w in stops]\n",
    "    \n",
    "    for token, tag in pos_tag(meaningful_words):\n",
    "        lemma = lemma_function.lemmatize(token, tag_map[tag[0]])\n",
    "        token_list += [token]\n",
    "        lemma_list += [lemma]\n",
    "        movies_list += [movies['title'][i]]\n",
    "    print(movies['title'][i], end='\\r')"
   ]
  },
  {
   "cell_type": "code",
   "execution_count": 428,
   "id": "00d6f8af",
   "metadata": {},
   "outputs": [
    {
     "data": {
      "text/html": [
       "<div>\n",
       "<style scoped>\n",
       "    .dataframe tbody tr th:only-of-type {\n",
       "        vertical-align: middle;\n",
       "    }\n",
       "\n",
       "    .dataframe tbody tr th {\n",
       "        vertical-align: top;\n",
       "    }\n",
       "\n",
       "    .dataframe thead th {\n",
       "        text-align: right;\n",
       "    }\n",
       "</style>\n",
       "<table border=\"1\" class=\"dataframe\">\n",
       "  <thead>\n",
       "    <tr style=\"text-align: right;\">\n",
       "      <th></th>\n",
       "      <th>title</th>\n",
       "      <th>lemma</th>\n",
       "      <th>part</th>\n",
       "      <th>level</th>\n",
       "    </tr>\n",
       "  </thead>\n",
       "  <tbody>\n",
       "    <tr>\n",
       "      <th>0</th>\n",
       "      <td>Crown, The S01E01 - Wolferton Splash.en</td>\n",
       "      <td>seek</td>\n",
       "      <td>v</td>\n",
       "      <td>B2</td>\n",
       "    </tr>\n",
       "    <tr>\n",
       "      <th>1</th>\n",
       "      <td>Crown, The S01E01 - Wolferton Splash.en</td>\n",
       "      <td>british</td>\n",
       "      <td>undef</td>\n",
       "      <td>undef</td>\n",
       "    </tr>\n",
       "    <tr>\n",
       "      <th>2</th>\n",
       "      <td>Crown, The S01E01 - Wolferton Splash.en</td>\n",
       "      <td>nationalization</td>\n",
       "      <td>undef</td>\n",
       "      <td>undef</td>\n",
       "    </tr>\n",
       "    <tr>\n",
       "      <th>3</th>\n",
       "      <td>Crown, The S01E01 - Wolferton Splash.en</td>\n",
       "      <td>royal</td>\n",
       "      <td>adj</td>\n",
       "      <td>B1</td>\n",
       "    </tr>\n",
       "    <tr>\n",
       "      <th>4</th>\n",
       "      <td>Crown, The S01E01 - Wolferton Splash.en</td>\n",
       "      <td>highness</td>\n",
       "      <td>undef</td>\n",
       "      <td>undef</td>\n",
       "    </tr>\n",
       "  </tbody>\n",
       "</table>\n",
       "</div>"
      ],
      "text/plain": [
       "                                     title            lemma   part  level\n",
       "0  Crown, The S01E01 - Wolferton Splash.en             seek      v     B2\n",
       "1  Crown, The S01E01 - Wolferton Splash.en          british  undef  undef\n",
       "2  Crown, The S01E01 - Wolferton Splash.en  nationalization  undef  undef\n",
       "3  Crown, The S01E01 - Wolferton Splash.en            royal    adj     B1\n",
       "4  Crown, The S01E01 - Wolferton Splash.en         highness  undef  undef"
      ]
     },
     "execution_count": 428,
     "metadata": {},
     "output_type": "execute_result"
    }
   ],
   "source": [
    "# сохраним данные в датафрейм\n",
    "df = pd.DataFrame({'title':movies_list,\n",
    "                   'lemma':lemma_list})\n",
    "df = df.drop_duplicates(subset=['title', 'lemma']).reset_index(drop=True)\n",
    "df = df.merge(dictionary, how='left', left_on='lemma', right_on='word')\n",
    "df = df.drop('word', axis=1)\n",
    "df = df.fillna('undef')\n",
    "df.loc[(df['part'] == ''), 'part'] = 'undef'\n",
    "df.head()"
   ]
  },
  {
   "cell_type": "code",
   "execution_count": 429,
   "id": "a49bb4bd",
   "metadata": {},
   "outputs": [
    {
     "data": {
      "text/html": [
       "<div>\n",
       "<style scoped>\n",
       "    .dataframe tbody tr th:only-of-type {\n",
       "        vertical-align: middle;\n",
       "    }\n",
       "\n",
       "    .dataframe tbody tr th {\n",
       "        vertical-align: top;\n",
       "    }\n",
       "\n",
       "    .dataframe thead th {\n",
       "        text-align: right;\n",
       "    }\n",
       "</style>\n",
       "<table border=\"1\" class=\"dataframe\">\n",
       "  <thead>\n",
       "    <tr style=\"text-align: right;\">\n",
       "      <th></th>\n",
       "      <th>title</th>\n",
       "      <th>level_A1</th>\n",
       "      <th>level_A2</th>\n",
       "      <th>level_B1</th>\n",
       "      <th>level_B2</th>\n",
       "      <th>level_C1</th>\n",
       "      <th>level_undef</th>\n",
       "      <th>level_A1_share</th>\n",
       "      <th>level_A2_share</th>\n",
       "      <th>level_B1_share</th>\n",
       "      <th>...</th>\n",
       "      <th>part_det_share</th>\n",
       "      <th>part_exclam_share</th>\n",
       "      <th>part_modal v_share</th>\n",
       "      <th>part_n_share</th>\n",
       "      <th>part_number_share</th>\n",
       "      <th>part_prep_share</th>\n",
       "      <th>part_pron_share</th>\n",
       "      <th>part_undef_share</th>\n",
       "      <th>part_v_share</th>\n",
       "      <th>movie_difficulty</th>\n",
       "    </tr>\n",
       "  </thead>\n",
       "  <tbody>\n",
       "    <tr>\n",
       "      <th>0</th>\n",
       "      <td>10_Cloverfield_lane(2016)</td>\n",
       "      <td>301.0</td>\n",
       "      <td>143.0</td>\n",
       "      <td>81.0</td>\n",
       "      <td>62.0</td>\n",
       "      <td>29.0</td>\n",
       "      <td>191.0</td>\n",
       "      <td>0.372986</td>\n",
       "      <td>0.177200</td>\n",
       "      <td>0.100372</td>\n",
       "      <td>...</td>\n",
       "      <td>0.012392</td>\n",
       "      <td>0.009913</td>\n",
       "      <td>0.004957</td>\n",
       "      <td>0.322181</td>\n",
       "      <td>0.008674</td>\n",
       "      <td>0.012392</td>\n",
       "      <td>0.011152</td>\n",
       "      <td>0.237918</td>\n",
       "      <td>0.209418</td>\n",
       "      <td>B1</td>\n",
       "    </tr>\n",
       "    <tr>\n",
       "      <th>1</th>\n",
       "      <td>10_things_I_hate_about_you(1999)</td>\n",
       "      <td>375.0</td>\n",
       "      <td>186.0</td>\n",
       "      <td>111.0</td>\n",
       "      <td>115.0</td>\n",
       "      <td>62.0</td>\n",
       "      <td>458.0</td>\n",
       "      <td>0.286917</td>\n",
       "      <td>0.142311</td>\n",
       "      <td>0.084927</td>\n",
       "      <td>...</td>\n",
       "      <td>0.007651</td>\n",
       "      <td>0.007651</td>\n",
       "      <td>0.004591</td>\n",
       "      <td>0.275440</td>\n",
       "      <td>0.007651</td>\n",
       "      <td>0.008416</td>\n",
       "      <td>0.009946</td>\n",
       "      <td>0.354246</td>\n",
       "      <td>0.170620</td>\n",
       "      <td>B1</td>\n",
       "    </tr>\n",
       "    <tr>\n",
       "      <th>2</th>\n",
       "      <td>A_knights_tale(2001)</td>\n",
       "      <td>354.0</td>\n",
       "      <td>182.0</td>\n",
       "      <td>100.0</td>\n",
       "      <td>98.0</td>\n",
       "      <td>62.0</td>\n",
       "      <td>405.0</td>\n",
       "      <td>0.294754</td>\n",
       "      <td>0.151540</td>\n",
       "      <td>0.083264</td>\n",
       "      <td>...</td>\n",
       "      <td>0.009992</td>\n",
       "      <td>0.007494</td>\n",
       "      <td>0.005828</td>\n",
       "      <td>0.269775</td>\n",
       "      <td>0.014988</td>\n",
       "      <td>0.012490</td>\n",
       "      <td>0.009159</td>\n",
       "      <td>0.339717</td>\n",
       "      <td>0.185679</td>\n",
       "      <td>B2</td>\n",
       "    </tr>\n",
       "    <tr>\n",
       "      <th>3</th>\n",
       "      <td>A_star_is_born(2018)</td>\n",
       "      <td>384.0</td>\n",
       "      <td>199.0</td>\n",
       "      <td>81.0</td>\n",
       "      <td>79.0</td>\n",
       "      <td>36.0</td>\n",
       "      <td>286.0</td>\n",
       "      <td>0.360563</td>\n",
       "      <td>0.186854</td>\n",
       "      <td>0.076056</td>\n",
       "      <td>...</td>\n",
       "      <td>0.011268</td>\n",
       "      <td>0.012207</td>\n",
       "      <td>0.003756</td>\n",
       "      <td>0.331455</td>\n",
       "      <td>0.006573</td>\n",
       "      <td>0.011268</td>\n",
       "      <td>0.012207</td>\n",
       "      <td>0.269484</td>\n",
       "      <td>0.184977</td>\n",
       "      <td>B2</td>\n",
       "    </tr>\n",
       "    <tr>\n",
       "      <th>4</th>\n",
       "      <td>Aladdin(1992)</td>\n",
       "      <td>340.0</td>\n",
       "      <td>185.0</td>\n",
       "      <td>99.0</td>\n",
       "      <td>109.0</td>\n",
       "      <td>55.0</td>\n",
       "      <td>450.0</td>\n",
       "      <td>0.274637</td>\n",
       "      <td>0.149435</td>\n",
       "      <td>0.079968</td>\n",
       "      <td>...</td>\n",
       "      <td>0.009693</td>\n",
       "      <td>0.010501</td>\n",
       "      <td>0.006462</td>\n",
       "      <td>0.261712</td>\n",
       "      <td>0.006462</td>\n",
       "      <td>0.007270</td>\n",
       "      <td>0.008885</td>\n",
       "      <td>0.364297</td>\n",
       "      <td>0.159128</td>\n",
       "      <td>A2</td>\n",
       "    </tr>\n",
       "  </tbody>\n",
       "</table>\n",
       "<p>5 rows × 26 columns</p>\n",
       "</div>"
      ],
      "text/plain": [
       "                              title  level_A1  level_A2  level_B1  level_B2  \\\n",
       "0         10_Cloverfield_lane(2016)     301.0     143.0      81.0      62.0   \n",
       "1  10_things_I_hate_about_you(1999)     375.0     186.0     111.0     115.0   \n",
       "2              A_knights_tale(2001)     354.0     182.0     100.0      98.0   \n",
       "3              A_star_is_born(2018)     384.0     199.0      81.0      79.0   \n",
       "4                     Aladdin(1992)     340.0     185.0      99.0     109.0   \n",
       "\n",
       "   level_C1  level_undef  level_A1_share  level_A2_share  level_B1_share  ...  \\\n",
       "0      29.0        191.0        0.372986        0.177200        0.100372  ...   \n",
       "1      62.0        458.0        0.286917        0.142311        0.084927  ...   \n",
       "2      62.0        405.0        0.294754        0.151540        0.083264  ...   \n",
       "3      36.0        286.0        0.360563        0.186854        0.076056  ...   \n",
       "4      55.0        450.0        0.274637        0.149435        0.079968  ...   \n",
       "\n",
       "   part_det_share  part_exclam_share  part_modal v_share  part_n_share  \\\n",
       "0        0.012392           0.009913            0.004957      0.322181   \n",
       "1        0.007651           0.007651            0.004591      0.275440   \n",
       "2        0.009992           0.007494            0.005828      0.269775   \n",
       "3        0.011268           0.012207            0.003756      0.331455   \n",
       "4        0.009693           0.010501            0.006462      0.261712   \n",
       "\n",
       "   part_number_share  part_prep_share  part_pron_share  part_undef_share  \\\n",
       "0           0.008674         0.012392         0.011152          0.237918   \n",
       "1           0.007651         0.008416         0.009946          0.354246   \n",
       "2           0.014988         0.012490         0.009159          0.339717   \n",
       "3           0.006573         0.011268         0.012207          0.269484   \n",
       "4           0.006462         0.007270         0.008885          0.364297   \n",
       "\n",
       "   part_v_share  movie_difficulty  \n",
       "0      0.209418                B1  \n",
       "1      0.170620                B1  \n",
       "2      0.185679                B2  \n",
       "3      0.184977                B2  \n",
       "4      0.159128                A2  \n",
       "\n",
       "[5 rows x 26 columns]"
      ]
     },
     "execution_count": 429,
     "metadata": {},
     "output_type": "execute_result"
    }
   ],
   "source": [
    "# расчитаем статистику по фильмам\n",
    "levels = df.pivot_table(index=['title'], columns=['level'], aggfunc={'level':'count'})\n",
    "levels_share = levels.div(levels.sum(axis=1), axis=0)\n",
    "\n",
    "levels = levels.reset_index()\n",
    "levels.columns = ['_'.join(col) for col in levels.columns]\n",
    "levels = levels.rename(columns={'title_':'title'})\n",
    "\n",
    "parts = df.pivot_table(index=['title'], columns=['part'], aggfunc={'part':'count'})\n",
    "parts_share = parts.div(parts.sum(axis=1), axis=0)\n",
    "\n",
    "report = levels_share.join(parts_share)\n",
    "report = report.reset_index()\n",
    "\n",
    "report.columns = ['_'.join(col) + '_share' for col in report.columns]\n",
    "report = report.merge(movies[['title', 'level']].rename(columns={'level':'movie_difficulty'}), how='left', left_on='title__share', right_on='title')\n",
    "report = report.drop('title', axis=1)\n",
    "report = report.rename(columns={'title__share':'title'})\n",
    "report = levels.merge(report, how='left', on='title')\n",
    "report.head()"
   ]
  },
  {
   "cell_type": "code",
   "execution_count": 430,
   "id": "1e77751e",
   "metadata": {},
   "outputs": [
    {
     "data": {
      "application/vnd.jupyter.widget-view+json": {
       "model_id": "59858998dbc540d0be4e28c9bf37bce2",
       "version_major": 2,
       "version_minor": 0
      },
      "text/plain": [
       "films:   0%|          | 0/278 [00:00<?, ?it/s]"
      ]
     },
     "metadata": {},
     "output_type": "display_data"
    },
    {
     "name": "stdout",
     "output_type": "stream",
     "text": [
      "Aladdin(1992)15)_of_Caring(2016)2019.720.NF.720p.DDP.5.1.x264-CafeFlixglish\r"
     ]
    }
   ],
   "source": [
    "# расчитаем дополнительную статистику по фильмам\n",
    "movies_list = []\n",
    "syllable = []\n",
    "lexicon = []\n",
    "sentence = []\n",
    "char = []\n",
    "letter = []\n",
    "polysyllab = []\n",
    "monosyllab = []\n",
    "\n",
    "for i in tqdm(range(movies.shape[0]), position=1, desc='films', leave=True):\n",
    "    try:\n",
    "        subs = pysrt.open(movies['path'][i]).text\n",
    "    except:\n",
    "        subs = pysrt.open(movies['path'][i], encoding='unicode_escape').text\n",
    "        \n",
    "    cleaned_subs = clean_subs(subs)\n",
    "    movies_list += [movies['title'][i]]\n",
    "\n",
    "    syllable.append(textstat.syllable_count(cleaned_subs)) # Syllable Count\n",
    "    lexicon.append(textstat.lexicon_count(cleaned_subs, removepunct=True)) # Lexicon Count\n",
    "    sentence.append(textstat.sentence_count(cleaned_subs)) # Sentence Count\n",
    "    char.append(textstat.char_count(cleaned_subs, ignore_spaces=True)) # Character Count\n",
    "    letter.append(textstat.letter_count(cleaned_subs, ignore_spaces=True)) # Letter Count\n",
    "    polysyllab.append(textstat.polysyllabcount(cleaned_subs)) # Polysyllable Count\n",
    "    monosyllab.append(textstat.monosyllabcount(cleaned_subs)) # Monosyllable Count            \n",
    "    print(movies['title'][i], end='\\r')"
   ]
  },
  {
   "cell_type": "code",
   "execution_count": 431,
   "id": "d936015d",
   "metadata": {},
   "outputs": [],
   "source": [
    "# сохраним данные в датафрейм\n",
    "df_stat = pd.DataFrame({'title':movies_list,\n",
    "                        'syllable':syllable,\n",
    "                        'lexicon':lexicon,\n",
    "                        'sentence':sentence,\n",
    "                        'char':char,\n",
    "                        'letter':letter,\n",
    "                        'polysyllab':polysyllab,\n",
    "                        'monosyllab':monosyllab\n",
    "                       })"
   ]
  },
  {
   "cell_type": "code",
   "execution_count": 432,
   "id": "7c40d6dc",
   "metadata": {},
   "outputs": [],
   "source": [
    "# объединим данные со статистикой в один датафрейм\n",
    "report = report.merge(df_stat, how='left', on='title')"
   ]
  },
  {
   "cell_type": "code",
   "execution_count": 433,
   "id": "bd5aceb2",
   "metadata": {},
   "outputs": [],
   "source": [
    "# заполним пропуски в данных\n",
    "imputer = KNNImputer(n_neighbors=5)\n",
    "columns = ['level_A1', 'level_A2', 'level_B1', 'level_B2', 'level_C1',\n",
    "           'level_undef', 'level_A1_share', 'level_A2_share', 'level_B1_share',\n",
    "           'level_B2_share', 'level_C1_share', 'level_undef_share',\n",
    "           'part_adj_share', 'part_adv_share', 'part_conj_share', 'part_det_share',\n",
    "           'part_exclam_share', 'part_modal v_share', 'part_n_share',\n",
    "           'part_number_share', 'part_prep_share', 'part_pron_share',\n",
    "           'part_undef_share', 'part_v_share']\n",
    "\n",
    "before_imputation = report[columns]\n",
    "after_imputation = imputer.fit_transform(before_imputation)\n",
    "report[columns] = after_imputation"
   ]
  },
  {
   "cell_type": "code",
   "execution_count": 434,
   "id": "b165482b",
   "metadata": {},
   "outputs": [],
   "source": [
    "# стандартизируем данные\n",
    "numeric = report.select_dtypes(include='float64').columns.to_list()\n",
    "\n",
    "# создадим объект класса StandardScaler:\n",
    "scaler = StandardScaler()\n",
    "#scaler = MinMaxScaler()\n",
    "\n",
    "# обучаем scaler:\n",
    "scaler.fit(report[numeric]) \n",
    "\n",
    "# применяем стандартизацию к матрице признаков:\n",
    "report[numeric] = scaler.transform(report[numeric])"
   ]
  },
  {
   "cell_type": "code",
   "execution_count": 435,
   "id": "c61d680c",
   "metadata": {},
   "outputs": [],
   "source": [
    "# закодируем целевую переменную\n",
    "report = report.dropna(subset='movie_difficulty')\n",
    "encoder = OrdinalEncoder() \n",
    "report['movie_difficulty'] = encoder.fit_transform(report[['movie_difficulty']])"
   ]
  },
  {
   "cell_type": "code",
   "execution_count": 436,
   "id": "12636f54",
   "metadata": {},
   "outputs": [],
   "source": [
    "report = report[['title', 'level_A1_share', 'level_A2_share', 'level_B1_share',\n",
    "           'level_B2_share', 'level_C1_share', 'level_undef_share',\n",
    "           'part_adj_share', 'part_adv_share', 'part_conj_share', 'part_det_share',\n",
    "           'part_exclam_share', 'part_modal v_share', 'part_n_share',\n",
    "           'part_number_share', 'part_prep_share', 'part_pron_share',\n",
    "           'part_undef_share', 'part_v_share', 'movie_difficulty']]"
   ]
  },
  {
   "cell_type": "code",
   "execution_count": 437,
   "id": "4f33e7f9",
   "metadata": {},
   "outputs": [],
   "source": [
    "# # разделим выборки на матрицу признаков X и вектор целевой переменной y:\n",
    "X = report.drop(['title', 'movie_difficulty'], axis=1)\n",
    "y = report['movie_difficulty']\n",
    "\n",
    "# разделим данные на обучающую выборку и остальной датасет:\n",
    "X_train, X_test, y_train, y_test = train_test_split(X, y, train_size=0.8, stratify=y)"
   ]
  },
  {
   "cell_type": "code",
   "execution_count": 438,
   "id": "c4fbd059",
   "metadata": {},
   "outputs": [
    {
     "name": "stdout",
     "output_type": "stream",
     "text": [
      "Fitting 5 folds for each of 10 candidates, totalling 50 fits\n"
     ]
    },
    {
     "data": {
      "text/html": [
       "<style>#sk-container-id-26 {color: black;background-color: white;}#sk-container-id-26 pre{padding: 0;}#sk-container-id-26 div.sk-toggleable {background-color: white;}#sk-container-id-26 label.sk-toggleable__label {cursor: pointer;display: block;width: 100%;margin-bottom: 0;padding: 0.3em;box-sizing: border-box;text-align: center;}#sk-container-id-26 label.sk-toggleable__label-arrow:before {content: \"▸\";float: left;margin-right: 0.25em;color: #696969;}#sk-container-id-26 label.sk-toggleable__label-arrow:hover:before {color: black;}#sk-container-id-26 div.sk-estimator:hover label.sk-toggleable__label-arrow:before {color: black;}#sk-container-id-26 div.sk-toggleable__content {max-height: 0;max-width: 0;overflow: hidden;text-align: left;background-color: #f0f8ff;}#sk-container-id-26 div.sk-toggleable__content pre {margin: 0.2em;color: black;border-radius: 0.25em;background-color: #f0f8ff;}#sk-container-id-26 input.sk-toggleable__control:checked~div.sk-toggleable__content {max-height: 200px;max-width: 100%;overflow: auto;}#sk-container-id-26 input.sk-toggleable__control:checked~label.sk-toggleable__label-arrow:before {content: \"▾\";}#sk-container-id-26 div.sk-estimator input.sk-toggleable__control:checked~label.sk-toggleable__label {background-color: #d4ebff;}#sk-container-id-26 div.sk-label input.sk-toggleable__control:checked~label.sk-toggleable__label {background-color: #d4ebff;}#sk-container-id-26 input.sk-hidden--visually {border: 0;clip: rect(1px 1px 1px 1px);clip: rect(1px, 1px, 1px, 1px);height: 1px;margin: -1px;overflow: hidden;padding: 0;position: absolute;width: 1px;}#sk-container-id-26 div.sk-estimator {font-family: monospace;background-color: #f0f8ff;border: 1px dotted black;border-radius: 0.25em;box-sizing: border-box;margin-bottom: 0.5em;}#sk-container-id-26 div.sk-estimator:hover {background-color: #d4ebff;}#sk-container-id-26 div.sk-parallel-item::after {content: \"\";width: 100%;border-bottom: 1px solid gray;flex-grow: 1;}#sk-container-id-26 div.sk-label:hover label.sk-toggleable__label {background-color: #d4ebff;}#sk-container-id-26 div.sk-serial::before {content: \"\";position: absolute;border-left: 1px solid gray;box-sizing: border-box;top: 0;bottom: 0;left: 50%;z-index: 0;}#sk-container-id-26 div.sk-serial {display: flex;flex-direction: column;align-items: center;background-color: white;padding-right: 0.2em;padding-left: 0.2em;position: relative;}#sk-container-id-26 div.sk-item {position: relative;z-index: 1;}#sk-container-id-26 div.sk-parallel {display: flex;align-items: stretch;justify-content: center;background-color: white;position: relative;}#sk-container-id-26 div.sk-item::before, #sk-container-id-26 div.sk-parallel-item::before {content: \"\";position: absolute;border-left: 1px solid gray;box-sizing: border-box;top: 0;bottom: 0;left: 50%;z-index: -1;}#sk-container-id-26 div.sk-parallel-item {display: flex;flex-direction: column;z-index: 1;position: relative;background-color: white;}#sk-container-id-26 div.sk-parallel-item:first-child::after {align-self: flex-end;width: 50%;}#sk-container-id-26 div.sk-parallel-item:last-child::after {align-self: flex-start;width: 50%;}#sk-container-id-26 div.sk-parallel-item:only-child::after {width: 0;}#sk-container-id-26 div.sk-dashed-wrapped {border: 1px dashed gray;margin: 0 0.4em 0.5em 0.4em;box-sizing: border-box;padding-bottom: 0.4em;background-color: white;}#sk-container-id-26 div.sk-label label {font-family: monospace;font-weight: bold;display: inline-block;line-height: 1.2em;}#sk-container-id-26 div.sk-label-container {text-align: center;}#sk-container-id-26 div.sk-container {/* jupyter's `normalize.less` sets `[hidden] { display: none; }` but bootstrap.min.css set `[hidden] { display: none !important; }` so we also need the `!important` here to be able to override the default hidden behavior on the sphinx rendered scikit-learn.org. See: https://github.com/scikit-learn/scikit-learn/issues/21755 */display: inline-block !important;position: relative;}#sk-container-id-26 div.sk-text-repr-fallback {display: none;}</style><div id=\"sk-container-id-26\" class=\"sk-top-container\"><div class=\"sk-text-repr-fallback\"><pre>RandomizedSearchCV(cv=ShuffleSplit(n_splits=5, random_state=42, test_size=0.2, train_size=None),\n",
       "                   estimator=GradientBoostingClassifier(random_state=42),\n",
       "                   n_jobs=-1,\n",
       "                   param_distributions={&#x27;max_depth&#x27;: array([ 1,  2,  3,  4,  5,  6,  7,  8,  9, 10]),\n",
       "                                        &#x27;min_samples_leaf&#x27;: [1, 2, 4],\n",
       "                                        &#x27;min_samples_split&#x27;: [2, 5, 10],\n",
       "                                        &#x27;n_estimators&#x27;: array([ 10,  20,  30,  40,  50,  60,  70,  80,  90, 100])},\n",
       "                   random_state=42, return_train_score=True, verbose=1)</pre><b>In a Jupyter environment, please rerun this cell to show the HTML representation or trust the notebook. <br />On GitHub, the HTML representation is unable to render, please try loading this page with nbviewer.org.</b></div><div class=\"sk-container\" hidden><div class=\"sk-item sk-dashed-wrapped\"><div class=\"sk-label-container\"><div class=\"sk-label sk-toggleable\"><input class=\"sk-toggleable__control sk-hidden--visually\" id=\"sk-estimator-id-64\" type=\"checkbox\" ><label for=\"sk-estimator-id-64\" class=\"sk-toggleable__label sk-toggleable__label-arrow\">RandomizedSearchCV</label><div class=\"sk-toggleable__content\"><pre>RandomizedSearchCV(cv=ShuffleSplit(n_splits=5, random_state=42, test_size=0.2, train_size=None),\n",
       "                   estimator=GradientBoostingClassifier(random_state=42),\n",
       "                   n_jobs=-1,\n",
       "                   param_distributions={&#x27;max_depth&#x27;: array([ 1,  2,  3,  4,  5,  6,  7,  8,  9, 10]),\n",
       "                                        &#x27;min_samples_leaf&#x27;: [1, 2, 4],\n",
       "                                        &#x27;min_samples_split&#x27;: [2, 5, 10],\n",
       "                                        &#x27;n_estimators&#x27;: array([ 10,  20,  30,  40,  50,  60,  70,  80,  90, 100])},\n",
       "                   random_state=42, return_train_score=True, verbose=1)</pre></div></div></div><div class=\"sk-parallel\"><div class=\"sk-parallel-item\"><div class=\"sk-item\"><div class=\"sk-label-container\"><div class=\"sk-label sk-toggleable\"><input class=\"sk-toggleable__control sk-hidden--visually\" id=\"sk-estimator-id-65\" type=\"checkbox\" ><label for=\"sk-estimator-id-65\" class=\"sk-toggleable__label sk-toggleable__label-arrow\">estimator: GradientBoostingClassifier</label><div class=\"sk-toggleable__content\"><pre>GradientBoostingClassifier(random_state=42)</pre></div></div></div><div class=\"sk-serial\"><div class=\"sk-item\"><div class=\"sk-estimator sk-toggleable\"><input class=\"sk-toggleable__control sk-hidden--visually\" id=\"sk-estimator-id-66\" type=\"checkbox\" ><label for=\"sk-estimator-id-66\" class=\"sk-toggleable__label sk-toggleable__label-arrow\">GradientBoostingClassifier</label><div class=\"sk-toggleable__content\"><pre>GradientBoostingClassifier(random_state=42)</pre></div></div></div></div></div></div></div></div></div></div>"
      ],
      "text/plain": [
       "RandomizedSearchCV(cv=ShuffleSplit(n_splits=5, random_state=42, test_size=0.2, train_size=None),\n",
       "                   estimator=GradientBoostingClassifier(random_state=42),\n",
       "                   n_jobs=-1,\n",
       "                   param_distributions={'max_depth': array([ 1,  2,  3,  4,  5,  6,  7,  8,  9, 10]),\n",
       "                                        'min_samples_leaf': [1, 2, 4],\n",
       "                                        'min_samples_split': [2, 5, 10],\n",
       "                                        'n_estimators': array([ 10,  20,  30,  40,  50,  60,  70,  80,  90, 100])},\n",
       "                   random_state=42, return_train_score=True, verbose=1)"
      ]
     },
     "execution_count": 438,
     "metadata": {},
     "output_type": "execute_result"
    }
   ],
   "source": [
    "# зададим гиперпараметры для модели:\n",
    "n_estimators = np.arange(10, 110, 10)\n",
    "max_depth = np.arange(1, 11, 1)\n",
    "min_samples_split = [2, 5, 10]\n",
    "min_samples_leaf = [1, 2, 4]\n",
    "\n",
    "random_grid = {'n_estimators': n_estimators,\n",
    "               'max_depth': max_depth,\n",
    "               'min_samples_split': min_samples_split,\n",
    "               'min_samples_leaf': min_samples_leaf,\n",
    "               }\n",
    "\n",
    "# обучим модель:\n",
    "gbr = GradientBoostingClassifier(random_state=42, loss='log_loss')\n",
    "\n",
    "model = RandomizedSearchCV(estimator=gbr, \n",
    "                           param_distributions=random_grid,\n",
    "                           n_iter = 10, \n",
    "                           cv = ShuffleSplit(test_size=0.20, n_splits=5, random_state=42), \n",
    "                           verbose=1,\n",
    "                           return_train_score=True,\n",
    "                           random_state=42, \n",
    "                           n_jobs = -1)\n",
    "\n",
    "model.fit(X_train, y_train)"
   ]
  },
  {
   "cell_type": "code",
   "execution_count": 439,
   "id": "9f2b7d6c",
   "metadata": {
    "scrolled": true
   },
   "outputs": [
    {
     "name": "stdout",
     "output_type": "stream",
     "text": [
      "accuracy_score: 0.5370370370370371\n"
     ]
    }
   ],
   "source": [
    "# проверим модель на тестовой выборке\n",
    "y_pred = model.predict(X_test)\n",
    "print('accuracy_score:', accuracy_score(y_test, y_pred, normalize=True))"
   ]
  },
  {
   "cell_type": "code",
   "execution_count": 440,
   "id": "25a887fb",
   "metadata": {
    "scrolled": false
   },
   "outputs": [
    {
     "data": {
      "text/plain": [
       "<sklearn.metrics._plot.confusion_matrix.ConfusionMatrixDisplay at 0x7ff677a164f0>"
      ]
     },
     "execution_count": 440,
     "metadata": {},
     "output_type": "execute_result"
    },
    {
     "data": {
      "image/png": "[encoded data removed]",
      "text/plain": [
       "<Figure size 640x480 with 2 Axes>"
      ]
     },
     "metadata": {},
     "output_type": "display_data"
    }
   ],
   "source": [
    "ConfusionMatrixDisplay.from_estimator(model, X_test, y_test)"
   ]
  }
 ],
 "metadata": {
  "kernelspec": {
   "display_name": "Python 3 (ipykernel)",
   "language": "python",
   "name": "python3"
  },
  "language_info": {
   "codemirror_mode": {
    "name": "ipython",
    "version": 3
   },
   "file_extension": ".py",
   "mimetype": "text/x-python",
   "name": "python",
   "nbconvert_exporter": "python",
   "pygments_lexer": "ipython3",
   "version": "3.9.16"
  }
 },
 "nbformat": 4,
 "nbformat_minor": 5
}
